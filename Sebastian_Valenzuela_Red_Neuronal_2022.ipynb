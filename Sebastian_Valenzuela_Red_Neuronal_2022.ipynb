{
  "nbformat": 4,
  "nbformat_minor": 0,
  "metadata": {
    "colab": {
      "name": "Sebastian Valenzuela Red Neuronal 2022.ipynb",
      "provenance": [],
      "collapsed_sections": [],
      "authorship_tag": "ABX9TyMrPjo9Gl4PuMque/kduf37",
      "include_colab_link": true
    },
    "kernelspec": {
      "name": "python3",
      "display_name": "Python 3"
    },
    "language_info": {
      "name": "python"
    }
  },
  "cells": [
    {
      "cell_type": "markdown",
      "metadata": {
        "id": "view-in-github",
        "colab_type": "text"
      },
      "source": [
        "<a href=\"https://colab.research.google.com/github/BrauerSebastian/pokeapi/blob/master/Sebastian_Valenzuela_Red_Neuronal_2022.ipynb\" target=\"_parent\"><img src=\"https://colab.research.google.com/assets/colab-badge.svg\" alt=\"Open In Colab\"/></a>"
      ]
    },
    {
      "cell_type": "code",
      "execution_count": null,
      "metadata": {
        "id": "6fUw6gLQxbsW"
      },
      "outputs": [],
      "source": [
        "%tensorflow_version 1.x\n",
        "\n",
        "import tensorflow as tf\n",
        "from tensorflow.examples.tutorials.mnist import input_data\n",
        "mnist = input_data.read_data_sets(\"MNIST_data\", one_hot=True)"
      ]
    },
    {
      "cell_type": "code",
      "source": [
        "learning_rate= 0.0001\n",
        "lot_size = 100\n",
        "update_step = 10\n",
        "\n",
        "nodes_layer_1 = 500\n",
        "nodes_layer_2 = 500\n",
        "nodes_layer_3 = 500\n",
        "exit_nodes = 10"
      ],
      "metadata": {
        "id": "Q-c2pFICx9mA"
      },
      "execution_count": null,
      "outputs": []
    },
    {
      "cell_type": "code",
      "source": [
        "network_entry = tf.placeholder(tf.float32, [None, 784])\n",
        "\n",
        "exit_objective = tf.placeholder(tf.float32, [None, nodos_de_salida])\n",
        "\n",
        "layer_1 = tf.Variable(tf.random_normal([784, nodos_capa_1]))\n",
        "bias_layer_1 = tf.Variable(tf.random_normal([nodos_capa_1]))\n",
        "\n",
        "layer_2 = tf.Variable(tf.random_normal([nodos_capa_1, nodos_capa_2]))\n",
        "bias_layer_2 = tf.Variable(tf.random_normal([nodos_capa_2]))\n",
        "\n",
        "layer_3 = tf.Variable(tf.random_normal([nodos_capa_2, nodos_capa_3]))\n",
        "sesgo_capa_3 = tf.Variable(tf.random_normal([nodos_capa_3]))\n",
        "\n",
        "output_layer = tf.Variable(tf.random_normal([nodos_capa_3, nodos_de_salida]))\n",
        "output_layer_bias = tf.Variable(tf.random_normal([nodos_de_salida])) "
      ],
      "metadata": {
        "id": "p3yWvwUwypYU"
      },
      "execution_count": null,
      "outputs": []
    },
    {
      "cell_type": "code",
      "source": [
        "exit_l1 = tf.nn.relu(tf.matmul(network_entry, layer_1) + bias_layer_1)\n",
        "exit_l2 = tf.nn.relu(tf.matmul(exit_l1, layer_2) + bias_layer_2)\n",
        "exit_l3 = tf.nn.relu(tf.matmul(exit_l2, layer_3) + bias_layer_3)\n",
        "\n",
        "network_exit_1 = tf.matmul(exit_l3, capa_exit) + bias_layer_exit\n",
        "\n",
        "network_exit_2 = tf.nn.softmax(network_exit_1)"
      ],
      "metadata": {
        "id": "OmohA8rmzxPk"
      },
      "execution_count": null,
      "outputs": []
    },
    {
      "cell_type": "code",
      "source": [
        "exit_l1 = tf.nn.relu(tf.matmul(network_entry, layer_1) + bias_layer_1)\n",
        "exit_l2 = tf.nn.relu(tf.matmul(exit_l1, capa_2) + bias_layer_2)\n",
        "exit_l3 = tf.nn.relu(tf.matmul(exit_l2, capa_3) + bias_layer_3)\n",
        "\n",
        "network_exit_1 = tf.matmul(exit_l3, exit_layer) + exit_bias_layer\n",
        "\n",
        "network_exit_2 = tf.nn.softmax(network_exit_1)\n"
      ],
      "metadata": {
        "id": "vvF6l7QU0cri"
      },
      "execution_count": null,
      "outputs": []
    },
    {
      "cell_type": "code",
      "source": [
        "\n",
        "step_training = tf.train.GradientDescentOptimizer(learning_rate).minimize(cost_function)\n",
        "\n",
        "correct_predictions = tf.equal(tf.argmax(network_exit_2, 1), tf.argmax(exit_objective, 1))\n",
        "\n",
        "avg_correct_predictions = tf.reduce_mean(tf.cast(correct_predictions, tf.float32))"
      ],
      "metadata": {
        "id": "1fqFRLL40idF"
      },
      "execution_count": null,
      "outputs": []
    },
    {
      "cell_type": "code",
      "source": [
        "with tf.Session() as sess:\n",
        "    sess.run(tf.global_variables_initializer())\n",
        "    num_iterations = 10\n",
        "    for iteration in range(num_iteration):\n",
        "        total_cost = 0\n",
        "        for _ in range(int(mnist.train.num_examples / lot_size)):\n",
        "            lot_x, lot_y = mnist.train.next_batch(lot_size)\n",
        "            t, c = sess.run([step_training, cost_function], feed_dict={network_entry: lot_x, exit_objective: lot_y})       \n",
        "            total_cost += c\n",
        "        print('Iteraccion: ', iteration, 'completado luego de: ', num_iterations, ' iteracciones, perdida/loss: ', total_cost)\n",
        "    print('Presicion: ', avg_correct_predictions.eval({network_entry: mnist.test.images,exit_objective: mnist.test.labels}))"
      ],
      "metadata": {
        "id": "1k-nXdfs1d2R"
      },
      "execution_count": null,
      "outputs": []
    }
  ]
}